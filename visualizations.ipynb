{
 "cells": [
  {
   "cell_type": "code",
   "execution_count": 1,
   "metadata": {},
   "outputs": [],
   "source": [
    "# import libraries\n",
    "import pandas as pd\n",
    "import numpy as np\n",
    "import matplotlib.pyplot as plt\n",
    "import seaborn as sns"
   ]
  },
  {
   "cell_type": "code",
   "execution_count": 6,
   "metadata": {},
   "outputs": [],
   "source": [
    "finetune_mean = 0.9\n",
    "nofinetune_mean = 0.8\n",
    "fullfinetune_mean = 0.9\n",
    "fewshot_mean_18ex = 0.85\n",
    "\n"
   ]
  },
  {
   "cell_type": "code",
   "execution_count": 9,
   "metadata": {},
   "outputs": [
    {
     "data": {
      "image/png": "[encoded data removed]",
      "text/plain": [
       "<Figure size 288x288 with 1 Axes>"
      ]
     },
     "metadata": {
      "needs_background": "light"
     },
     "output_type": "display_data"
    }
   ],
   "source": [
    "# Here we can add the mean accuracy of standard fine-tuning of RoBERTa and GPT-3 on few-shot learning\n",
    "# If we fine-tune Roberta only on 1 dataset, we should take the average accuracy of Fine-Tune and No Fine-Tune only on that dataset\n",
    "plt.figure(figsize=(4,4))\n",
    "sns.barplot(y=[finetune_mean, nofinetune_mean, fullfinetune_mean, fewshot_mean_18ex], x=['Fine-Tune', 'No Fine-Tune', 'Full Fine-Tune', 'Few-shot'])\n",
    "\n",
    "# Add the values on top of the bars\n",
    "for i, v in enumerate([finetune_mean, nofinetune_mean, fullfinetune_mean, fewshot_mean_18ex]):\n",
    "    plt.text(i, round(v, 2) + 0.00001, str(round(v, 2)), ha='center')\n",
    "\n",
    "\n",
    "plt.ylabel('Accuracy Mean')\n",
    "plt.title('Fine-Tune vs No Fine-Tune vs Full Fine-Tune vs Few-shot (18 examples)')\n",
    "plt.savefig('Plots/Mean_Comparison.jpg')"
   ]
  },
  {
   "cell_type": "code",
   "execution_count": 19,
   "metadata": {},
   "outputs": [
    {
     "name": "stdout",
     "output_type": "stream",
     "text": [
      "   A  B   C   D\n",
      "0  1  5   9  13\n",
      "1  2  6  10  14\n",
      "2  3  7  11  15\n",
      "3  4  8  12  16\n"
     ]
    }
   ],
   "source": [
    "import pandas as pd\n",
    "\n",
    "# Create sample data\n",
    "data = {\n",
    "    'A': [1, 2, 3, 4],\n",
    "    'B': [5, 6, 7, 8],\n",
    "    'C': [9, 10, 11, 12],\n",
    "    'D': [13, 14, 15, 16]\n",
    "}\n",
    "\n",
    "# Create a multi-index column\n",
    "columns = pd.MultiIndex.from_tuples([\n",
    "    ('Group 1', 'Column A'),\n",
    "    ('Group 1', 'Column B'),\n",
    "    ('Group 2', 'Column C'),\n",
    "    ('Group 2', 'Column D')\n",
    "])\n",
    "\n",
    "# Create the DataFrame\n",
    "df = pd.DataFrame(data=data), columns=columns)\n",
    "\n",
    "# Display the DataFrame\n",
    "print(df)\n"
   ]
  },
  {
   "cell_type": "code",
   "execution_count": 18,
   "metadata": {},
   "outputs": [
    {
     "data": {
      "text/html": [
       "<div>\n",
       "<style scoped>\n",
       "    .dataframe tbody tr th:only-of-type {\n",
       "        vertical-align: middle;\n",
       "    }\n",
       "\n",
       "    .dataframe tbody tr th {\n",
       "        vertical-align: top;\n",
       "    }\n",
       "\n",
       "    .dataframe thead tr th {\n",
       "        text-align: left;\n",
       "    }\n",
       "</style>\n",
       "<table border=\"1\" class=\"dataframe\">\n",
       "  <thead>\n",
       "    <tr>\n",
       "      <th></th>\n",
       "      <th colspan=\"2\" halign=\"left\">Group 1</th>\n",
       "      <th colspan=\"2\" halign=\"left\">Group 2</th>\n",
       "    </tr>\n",
       "    <tr>\n",
       "      <th></th>\n",
       "      <th>Column A</th>\n",
       "      <th>Column B</th>\n",
       "      <th>Column C</th>\n",
       "      <th>Column D</th>\n",
       "    </tr>\n",
       "  </thead>\n",
       "  <tbody>\n",
       "  </tbody>\n",
       "</table>\n",
       "</div>"
      ],
      "text/plain": [
       "Empty DataFrame\n",
       "Columns: [(Group 1, Column A), (Group 1, Column B), (Group 2, Column C), (Group 2, Column D)]\n",
       "Index: []"
      ]
     },
     "execution_count": 18,
     "metadata": {},
     "output_type": "execute_result"
    }
   ],
   "source": [
    "df"
   ]
  },
  {
   "cell_type": "code",
   "execution_count": null,
   "metadata": {},
   "outputs": [],
   "source": []
  }
 ],
 "metadata": {
  "kernelspec": {
   "display_name": "base",
   "language": "python",
   "name": "python3"
  },
  "language_info": {
   "codemirror_mode": {
    "name": "ipython",
    "version": 3
   },
   "file_extension": ".py",
   "mimetype": "text/x-python",
   "name": "python",
   "nbconvert_exporter": "python",
   "pygments_lexer": "ipython3",
   "version": "3.9.7"
  },
  "orig_nbformat": 4
 },
 "nbformat": 4,
 "nbformat_minor": 2
}
